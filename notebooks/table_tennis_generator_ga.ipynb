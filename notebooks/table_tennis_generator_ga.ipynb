{
 "cells": [
  {
   "cell_type": "code",
   "execution_count": 1,
   "metadata": {},
   "outputs": [],
   "source": [
    "from collections import Counter\n",
    "import random\n",
    "from statistics import variance\n",
    "from typing import List, Set, Tuple, Union"
   ]
  },
  {
   "cell_type": "code",
   "execution_count": 2,
   "metadata": {},
   "outputs": [],
   "source": [
    "class Gene:  # Match\n",
    "    def __init__(self, team_1: Union[List, Set, Tuple], team_2: Union[List, Set, Tuple]):\n",
    "        self.team_1 = set(team_1)\n",
    "        self.team_2 = set(team_2)\n",
    "        assert not self.team_1.intersection(self.team_2), \"No overlapping players between teams\"\n",
    "\n",
    "        \n",
    "    def __eq__(self, other):\n",
    "        return ((self.team_1 == other.team_1) and (self.team_2 == other.team_2)\n",
    "               or (self.team_1 == other.team_2) and (self.team_2 == other.team_1))\n",
    "    \n",
    "    def __hash__(self):\n",
    "        return hash(f\"{sorted(self.team_1)}.{sorted(self.team_2)}\")\n",
    "    \n",
    "    def __str__(self):\n",
    "        return f'{self.team_1} - {self.team_2}'\n",
    "    \n",
    "    def to_list(self):\n",
    "        return list(self.team_1) + list(self.team_2)\n",
    "        \n",
    "# For simplicity, let's start with the case of a single Gene (match) played \n",
    "# simultaneously.\n",
    "        \n",
    "class Genome:  # Tournament\n",
    "    def __init__(self, num_players, num_genes, genes: List['Gene']=None):\n",
    "        self.num_players = num_players\n",
    "        self.num_genes = num_genes\n",
    "        if not genes:\n",
    "            self.genes = [self._make_random_gene() for _ in range(self.num_genes)]\n",
    "        else:\n",
    "            self.genes = genes\n",
    "    \n",
    "    @property\n",
    "    def fitness(self):\n",
    "        # number of unique matches\n",
    "        unique_matches = set()\n",
    "        players = []\n",
    "        for g in self.genes:\n",
    "            unique_matches.add(g)\n",
    "            players.extend(g.to_list())\n",
    "        return len(unique_matches) * (1 - variance(Counter(players).values()))\n",
    "        \n",
    "    def _make_random_gene(self):\n",
    "        num_players_for_gene = 4\n",
    "        players = random.sample(range(self.num_players), num_players_for_gene)\n",
    "        return Gene(players[:num_players_for_gene//2], players[num_players_for_gene//2:])\n",
    "    \n",
    "    def mutate(self):\n",
    "        for i in range(len(self.genes)):\n",
    "            if random.random() < 0.9:\n",
    "                # TODO: do I want mutated gene to be based on original?\n",
    "                self.genes[i] = self._make_random_gene()\n",
    "    \n",
    "    def __str__(self):\n",
    "        return '\\n'.join([str(g) for g in self.genes])\n",
    "\n",
    "                \n",
    "def crossover(a: 'Genome', b: 'Genome'):\n",
    "    offspring_genes = []\n",
    "    for left, right in zip(a.genes, b.genes):\n",
    "        if random.random() < 0.5:\n",
    "            offspring_genes.append(left)\n",
    "        else:\n",
    "            offspring_genes.append(right)\n",
    "    return Genome(a.num_players, a.num_genes, offspring_genes)\n",
    "\n",
    "def initial_population(size, num_players, num_genes):\n",
    "    population = []\n",
    "    for _ in range(size):\n",
    "        population.append(Genome(num_players, num_genes))\n",
    "    return population\n",
    "\n",
    "def next_generation(current_generation):\n",
    "    gen_by_fitness = sorted(current_generation, key=lambda g: g.fitness)\n",
    "    # fittest from current generation will survive unmutated into future generation\n",
    "    elite = gen_by_fitness[-1]  \n",
    "    # all genomes from current generation that are in the top 40% based on fitness will reproduce\n",
    "    breeding_population = set(gen_by_fitness[int(len(current_generation)*0.6):])\n",
    "    \n",
    "    children = [elite]\n",
    "    while len(children) < len(current_generation):\n",
    "        a = random.choice(list(breeding_population))\n",
    "        b = random.choice(list(breeding_population - {a}))\n",
    "        child = crossover(a, b)\n",
    "        child.mutate()\n",
    "        children.append(child)\n",
    "    \n",
    "    return children\n"
   ]
  },
  {
   "cell_type": "code",
   "execution_count": 3,
   "metadata": {},
   "outputs": [
    {
     "name": "stdout",
     "output_type": "stream",
     "text": [
      "51\n",
      "{0, 5} - {9, 4}\n",
      "{8, 11} - {1, 10}\n",
      "{6, 7} - {8, 10}\n",
      "{0, 3} - {11, 7}\n",
      "{9, 5} - {3, 6}\n",
      "{4, 6} - {0, 10}\n",
      "{3, 7} - {8, 5}\n",
      "{1, 2} - {9, 4}\n",
      "{8, 1} - {10, 2}\n",
      "{0, 5} - {2, 11}\n",
      "Wall time: 2.9 s\n"
     ]
    }
   ],
   "source": [
    "%%time\n",
    "num_players = 12\n",
    "num_matches = 10\n",
    "population = initial_population(100, num_players, num_matches)\n",
    "\n",
    "elite = sorted(population, key=lambda g: g.fitness)[-1]\n",
    "generation_elite_found = 0\n",
    "\n",
    "for i in range(100):  # num generations\n",
    "    population = next_generation(population)\n",
    "    elite_in_generation = sorted(population, key=lambda g: g.fitness)[-1]\n",
    "    if elite_in_generation.fitness > elite.fitness:\n",
    "        elite = elite_in_generation\n",
    "        generation_elite_found = i\n",
    "\n",
    "print(generation_elite_found)\n",
    "print(elite)\n",
    "    "
   ]
  },
  {
   "cell_type": "code",
   "execution_count": 4,
   "metadata": {},
   "outputs": [
    {
     "data": {
      "text/plain": [
       "Counter({0: 4,\n",
       "         5: 4,\n",
       "         9: 3,\n",
       "         4: 3,\n",
       "         8: 4,\n",
       "         11: 3,\n",
       "         1: 3,\n",
       "         10: 4,\n",
       "         6: 3,\n",
       "         7: 3,\n",
       "         3: 3,\n",
       "         2: 3})"
      ]
     },
     "execution_count": 4,
     "metadata": {},
     "output_type": "execute_result"
    }
   ],
   "source": [
    "players = []\n",
    "for g in elite.genes:\n",
    "    players.extend(g.to_list())\n",
    "Counter(players)"
   ]
  }
 ],
 "metadata": {
  "kernelspec": {
   "display_name": "Python 3",
   "language": "python",
   "name": "python3"
  },
  "language_info": {
   "codemirror_mode": {
    "name": "ipython",
    "version": 3
   },
   "file_extension": ".py",
   "mimetype": "text/x-python",
   "name": "python",
   "nbconvert_exporter": "python",
   "pygments_lexer": "ipython3",
   "version": "3.7.5"
  }
 },
 "nbformat": 4,
 "nbformat_minor": 2
}
